{
 "cells": [
  {
   "cell_type": "markdown",
   "id": "03ce5169-e944-48ca-a54a-2bda8a974c1f",
   "metadata": {},
   "source": [
    "## Importing Libraries"
   ]
  },
  {
   "cell_type": "code",
   "execution_count": 1,
   "id": "23a8988c-d1d6-4218-80be-883b17383991",
   "metadata": {},
   "outputs": [],
   "source": [
    "import pandas as pd\n",
    "import matplotlib.pyplot as plt\n",
    "import numpy as np\n",
    "import seaborn as sns"
   ]
  },
  {
   "cell_type": "markdown",
   "id": "0ea2b51a-3e79-4ac4-9837-43b0112c5352",
   "metadata": {},
   "source": [
    "## DataSet"
   ]
  },
  {
   "cell_type": "code",
   "execution_count": 2,
   "id": "7bd31172-2b86-4291-8661-8ecaf4304414",
   "metadata": {},
   "outputs": [
    {
     "data": {
      "text/html": [
       "<div>\n",
       "<style scoped>\n",
       "    .dataframe tbody tr th:only-of-type {\n",
       "        vertical-align: middle;\n",
       "    }\n",
       "\n",
       "    .dataframe tbody tr th {\n",
       "        vertical-align: top;\n",
       "    }\n",
       "\n",
       "    .dataframe thead th {\n",
       "        text-align: right;\n",
       "    }\n",
       "</style>\n",
       "<table border=\"1\" class=\"dataframe\">\n",
       "  <thead>\n",
       "    <tr style=\"text-align: right;\">\n",
       "      <th></th>\n",
       "      <th>Posted On</th>\n",
       "      <th>BHK</th>\n",
       "      <th>Rent</th>\n",
       "      <th>Size</th>\n",
       "      <th>Floor</th>\n",
       "      <th>Area Type</th>\n",
       "      <th>Area Locality</th>\n",
       "      <th>City</th>\n",
       "      <th>Furnishing Status</th>\n",
       "      <th>Tenant Preferred</th>\n",
       "      <th>Bathroom</th>\n",
       "      <th>Point of Contact</th>\n",
       "    </tr>\n",
       "  </thead>\n",
       "  <tbody>\n",
       "    <tr>\n",
       "      <th>0</th>\n",
       "      <td>2022-05-18</td>\n",
       "      <td>2</td>\n",
       "      <td>10000</td>\n",
       "      <td>1100</td>\n",
       "      <td>Ground out of 2</td>\n",
       "      <td>Super Area</td>\n",
       "      <td>Bandel</td>\n",
       "      <td>Kolkata</td>\n",
       "      <td>Unfurnished</td>\n",
       "      <td>Bachelors/Family</td>\n",
       "      <td>2</td>\n",
       "      <td>Contact Owner</td>\n",
       "    </tr>\n",
       "    <tr>\n",
       "      <th>1</th>\n",
       "      <td>2022-05-13</td>\n",
       "      <td>2</td>\n",
       "      <td>20000</td>\n",
       "      <td>800</td>\n",
       "      <td>1 out of 3</td>\n",
       "      <td>Super Area</td>\n",
       "      <td>Phool Bagan, Kankurgachi</td>\n",
       "      <td>Kolkata</td>\n",
       "      <td>Semi-Furnished</td>\n",
       "      <td>Bachelors/Family</td>\n",
       "      <td>1</td>\n",
       "      <td>Contact Owner</td>\n",
       "    </tr>\n",
       "    <tr>\n",
       "      <th>2</th>\n",
       "      <td>2022-05-16</td>\n",
       "      <td>2</td>\n",
       "      <td>17000</td>\n",
       "      <td>1000</td>\n",
       "      <td>1 out of 3</td>\n",
       "      <td>Super Area</td>\n",
       "      <td>Salt Lake City Sector 2</td>\n",
       "      <td>Kolkata</td>\n",
       "      <td>Semi-Furnished</td>\n",
       "      <td>Bachelors/Family</td>\n",
       "      <td>1</td>\n",
       "      <td>Contact Owner</td>\n",
       "    </tr>\n",
       "    <tr>\n",
       "      <th>3</th>\n",
       "      <td>2022-07-04</td>\n",
       "      <td>2</td>\n",
       "      <td>10000</td>\n",
       "      <td>800</td>\n",
       "      <td>1 out of 2</td>\n",
       "      <td>Super Area</td>\n",
       "      <td>Dumdum Park</td>\n",
       "      <td>Kolkata</td>\n",
       "      <td>Unfurnished</td>\n",
       "      <td>Bachelors/Family</td>\n",
       "      <td>1</td>\n",
       "      <td>Contact Owner</td>\n",
       "    </tr>\n",
       "    <tr>\n",
       "      <th>4</th>\n",
       "      <td>2022-05-09</td>\n",
       "      <td>2</td>\n",
       "      <td>7500</td>\n",
       "      <td>850</td>\n",
       "      <td>1 out of 2</td>\n",
       "      <td>Carpet Area</td>\n",
       "      <td>South Dum Dum</td>\n",
       "      <td>Kolkata</td>\n",
       "      <td>Unfurnished</td>\n",
       "      <td>Bachelors</td>\n",
       "      <td>1</td>\n",
       "      <td>Contact Owner</td>\n",
       "    </tr>\n",
       "  </tbody>\n",
       "</table>\n",
       "</div>"
      ],
      "text/plain": [
       "    Posted On  BHK   Rent  Size            Floor    Area Type  \\\n",
       "0  2022-05-18    2  10000  1100  Ground out of 2   Super Area   \n",
       "1  2022-05-13    2  20000   800       1 out of 3   Super Area   \n",
       "2  2022-05-16    2  17000  1000       1 out of 3   Super Area   \n",
       "3  2022-07-04    2  10000   800       1 out of 2   Super Area   \n",
       "4  2022-05-09    2   7500   850       1 out of 2  Carpet Area   \n",
       "\n",
       "              Area Locality     City Furnishing Status  Tenant Preferred  \\\n",
       "0                    Bandel  Kolkata       Unfurnished  Bachelors/Family   \n",
       "1  Phool Bagan, Kankurgachi  Kolkata    Semi-Furnished  Bachelors/Family   \n",
       "2   Salt Lake City Sector 2  Kolkata    Semi-Furnished  Bachelors/Family   \n",
       "3               Dumdum Park  Kolkata       Unfurnished  Bachelors/Family   \n",
       "4             South Dum Dum  Kolkata       Unfurnished         Bachelors   \n",
       "\n",
       "   Bathroom Point of Contact  \n",
       "0         2    Contact Owner  \n",
       "1         1    Contact Owner  \n",
       "2         1    Contact Owner  \n",
       "3         1    Contact Owner  \n",
       "4         1    Contact Owner  "
      ]
     },
     "execution_count": 2,
     "metadata": {},
     "output_type": "execute_result"
    }
   ],
   "source": [
    "df = pd.read_csv('House_Rent_Dataset.csv')\n",
    "df.head()"
   ]
  },
  {
   "cell_type": "markdown",
   "id": "cfccee88-0936-437c-ae46-cba112f1d5ab",
   "metadata": {},
   "source": [
    "Let's check how much Rent points are outliers."
   ]
  },
  {
   "cell_type": "code",
   "execution_count": 3,
   "id": "c5fec095-8f48-4c93-9a71-f276a8763181",
   "metadata": {},
   "outputs": [
    {
     "data": {
      "text/plain": [
       "<AxesSubplot:xlabel='Rent'>"
      ]
     },
     "execution_count": 3,
     "metadata": {},
     "output_type": "execute_result"
    },
    {
     "data": {
      "image/png": "[encoded data removed]",
      "text/plain": [
       "<Figure size 432x288 with 1 Axes>"
      ]
     },
     "metadata": {
      "needs_background": "light"
     },
     "output_type": "display_data"
    }
   ],
   "source": [
    "sns.boxplot(x = df['Rent'], data = df)"
   ]
  },
  {
   "cell_type": "markdown",
   "id": "1447b718-8495-4b92-8482-d015192f740d",
   "metadata": {},
   "source": [
    "We will remove Posted On because it's not important for this case."
   ]
  },
  {
   "cell_type": "code",
   "execution_count": 4,
   "id": "9f094fe7-bf6e-4321-afdc-5323e73f7f85",
   "metadata": {},
   "outputs": [],
   "source": [
    "df.drop('Posted On', axis = 1, inplace = True)"
   ]
  },
  {
   "cell_type": "code",
   "execution_count": 5,
   "id": "047df077-eb7a-433f-94c6-a14585034c3a",
   "metadata": {
    "tags": []
   },
   "outputs": [
    {
     "name": "stdout",
     "output_type": "stream",
     "text": [
      "<class 'pandas.core.frame.DataFrame'>\n",
      "RangeIndex: 4746 entries, 0 to 4745\n",
      "Data columns (total 11 columns):\n",
      " #   Column             Non-Null Count  Dtype \n",
      "---  ------             --------------  ----- \n",
      " 0   BHK                4746 non-null   int64 \n",
      " 1   Rent               4746 non-null   int64 \n",
      " 2   Size               4746 non-null   int64 \n",
      " 3   Floor              4746 non-null   object\n",
      " 4   Area Type          4746 non-null   object\n",
      " 5   Area Locality      4746 non-null   object\n",
      " 6   City               4746 non-null   object\n",
      " 7   Furnishing Status  4746 non-null   object\n",
      " 8   Tenant Preferred   4746 non-null   object\n",
      " 9   Bathroom           4746 non-null   int64 \n",
      " 10  Point of Contact   4746 non-null   object\n",
      "dtypes: int64(4), object(7)\n",
      "memory usage: 408.0+ KB\n"
     ]
    }
   ],
   "source": [
    "df.info()"
   ]
  },
  {
   "cell_type": "markdown",
   "id": "7f38f571-3985-4478-b0f0-457a8d935ad7",
   "metadata": {},
   "source": [
    "As you should kow, usually we can't feed Categorical Variables to our dataset, in this case we have to take care of it."
   ]
  },
  {
   "cell_type": "code",
   "execution_count": 6,
   "id": "9624fdaa-fd97-44d7-96ea-59759da49bf5",
   "metadata": {
    "tags": []
   },
   "outputs": [
    {
     "data": {
      "text/html": [
       "<div>\n",
       "<style scoped>\n",
       "    .dataframe tbody tr th:only-of-type {\n",
       "        vertical-align: middle;\n",
       "    }\n",
       "\n",
       "    .dataframe tbody tr th {\n",
       "        vertical-align: top;\n",
       "    }\n",
       "\n",
       "    .dataframe thead th {\n",
       "        text-align: right;\n",
       "    }\n",
       "</style>\n",
       "<table border=\"1\" class=\"dataframe\">\n",
       "  <thead>\n",
       "    <tr style=\"text-align: right;\">\n",
       "      <th></th>\n",
       "      <th>BHK</th>\n",
       "      <th>Rent</th>\n",
       "      <th>Size</th>\n",
       "      <th>Bathroom</th>\n",
       "    </tr>\n",
       "  </thead>\n",
       "  <tbody>\n",
       "    <tr>\n",
       "      <th>count</th>\n",
       "      <td>4746.000000</td>\n",
       "      <td>4.746000e+03</td>\n",
       "      <td>4746.000000</td>\n",
       "      <td>4746.000000</td>\n",
       "    </tr>\n",
       "    <tr>\n",
       "      <th>mean</th>\n",
       "      <td>2.083860</td>\n",
       "      <td>3.499345e+04</td>\n",
       "      <td>967.490729</td>\n",
       "      <td>1.965866</td>\n",
       "    </tr>\n",
       "    <tr>\n",
       "      <th>std</th>\n",
       "      <td>0.832256</td>\n",
       "      <td>7.810641e+04</td>\n",
       "      <td>634.202328</td>\n",
       "      <td>0.884532</td>\n",
       "    </tr>\n",
       "    <tr>\n",
       "      <th>min</th>\n",
       "      <td>1.000000</td>\n",
       "      <td>1.200000e+03</td>\n",
       "      <td>10.000000</td>\n",
       "      <td>1.000000</td>\n",
       "    </tr>\n",
       "    <tr>\n",
       "      <th>25%</th>\n",
       "      <td>2.000000</td>\n",
       "      <td>1.000000e+04</td>\n",
       "      <td>550.000000</td>\n",
       "      <td>1.000000</td>\n",
       "    </tr>\n",
       "    <tr>\n",
       "      <th>50%</th>\n",
       "      <td>2.000000</td>\n",
       "      <td>1.600000e+04</td>\n",
       "      <td>850.000000</td>\n",
       "      <td>2.000000</td>\n",
       "    </tr>\n",
       "    <tr>\n",
       "      <th>75%</th>\n",
       "      <td>3.000000</td>\n",
       "      <td>3.300000e+04</td>\n",
       "      <td>1200.000000</td>\n",
       "      <td>2.000000</td>\n",
       "    </tr>\n",
       "    <tr>\n",
       "      <th>max</th>\n",
       "      <td>6.000000</td>\n",
       "      <td>3.500000e+06</td>\n",
       "      <td>8000.000000</td>\n",
       "      <td>10.000000</td>\n",
       "    </tr>\n",
       "  </tbody>\n",
       "</table>\n",
       "</div>"
      ],
      "text/plain": [
       "               BHK          Rent         Size     Bathroom\n",
       "count  4746.000000  4.746000e+03  4746.000000  4746.000000\n",
       "mean      2.083860  3.499345e+04   967.490729     1.965866\n",
       "std       0.832256  7.810641e+04   634.202328     0.884532\n",
       "min       1.000000  1.200000e+03    10.000000     1.000000\n",
       "25%       2.000000  1.000000e+04   550.000000     1.000000\n",
       "50%       2.000000  1.600000e+04   850.000000     2.000000\n",
       "75%       3.000000  3.300000e+04  1200.000000     2.000000\n",
       "max       6.000000  3.500000e+06  8000.000000    10.000000"
      ]
     },
     "execution_count": 6,
     "metadata": {},
     "output_type": "execute_result"
    }
   ],
   "source": [
    "df.describe()"
   ]
  },
  {
   "cell_type": "markdown",
   "id": "a44854b8-7add-4eaa-806a-d42b6a389cda",
   "metadata": {},
   "source": [
    "We have only 4 numerical variables, we can note that,\n",
    "- We will need to standardize the data, the mean are in different magnitudes. And we have dollars with number of housing spaces.\n",
    "- We don't have NaN values. Atleast in the numerical variables.\n",
    "\n"
   ]
  },
  {
   "cell_type": "code",
   "execution_count": 7,
   "id": "257a2bbe-2dc6-430a-8770-43c64e19d88d",
   "metadata": {
    "tags": []
   },
   "outputs": [
    {
     "data": {
      "text/plain": [
       "BHK                  0\n",
       "Rent                 0\n",
       "Size                 0\n",
       "Floor                0\n",
       "Area Type            0\n",
       "Area Locality        0\n",
       "City                 0\n",
       "Furnishing Status    0\n",
       "Tenant Preferred     0\n",
       "Bathroom             0\n",
       "Point of Contact     0\n",
       "dtype: int64"
      ]
     },
     "execution_count": 7,
     "metadata": {},
     "output_type": "execute_result"
    }
   ],
   "source": [
    "df.isna().sum()"
   ]
  },
  {
   "cell_type": "markdown",
   "id": "ce1a87db-1dc2-4850-9cb6-3b5a55a62243",
   "metadata": {},
   "source": [
    "No NaN values in our dataset"
   ]
  },
  {
   "cell_type": "markdown",
   "id": "347950d1-8c43-4a9c-928d-3f78693850ba",
   "metadata": {
    "tags": []
   },
   "source": [
    "## Data Knowledge"
   ]
  },
  {
   "cell_type": "code",
   "execution_count": 8,
   "id": "65628e5e-10d0-4391-b62f-9d29e29e4ae4",
   "metadata": {},
   "outputs": [
    {
     "data": {
      "text/html": [
       "<div>\n",
       "<style scoped>\n",
       "    .dataframe tbody tr th:only-of-type {\n",
       "        vertical-align: middle;\n",
       "    }\n",
       "\n",
       "    .dataframe tbody tr th {\n",
       "        vertical-align: top;\n",
       "    }\n",
       "\n",
       "    .dataframe thead th {\n",
       "        text-align: right;\n",
       "    }\n",
       "</style>\n",
       "<table border=\"1\" class=\"dataframe\">\n",
       "  <thead>\n",
       "    <tr style=\"text-align: right;\">\n",
       "      <th></th>\n",
       "      <th>BHK</th>\n",
       "      <th>Rent</th>\n",
       "      <th>Size</th>\n",
       "      <th>Floor</th>\n",
       "      <th>Area Type</th>\n",
       "      <th>Area Locality</th>\n",
       "      <th>City</th>\n",
       "      <th>Furnishing Status</th>\n",
       "      <th>Tenant Preferred</th>\n",
       "      <th>Bathroom</th>\n",
       "      <th>Point of Contact</th>\n",
       "    </tr>\n",
       "  </thead>\n",
       "  <tbody>\n",
       "    <tr>\n",
       "      <th>0</th>\n",
       "      <td>2</td>\n",
       "      <td>10000</td>\n",
       "      <td>1100</td>\n",
       "      <td>Ground out of 2</td>\n",
       "      <td>Super Area</td>\n",
       "      <td>Bandel</td>\n",
       "      <td>Kolkata</td>\n",
       "      <td>Unfurnished</td>\n",
       "      <td>Bachelors/Family</td>\n",
       "      <td>2</td>\n",
       "      <td>Contact Owner</td>\n",
       "    </tr>\n",
       "    <tr>\n",
       "      <th>1</th>\n",
       "      <td>2</td>\n",
       "      <td>20000</td>\n",
       "      <td>800</td>\n",
       "      <td>1 out of 3</td>\n",
       "      <td>Super Area</td>\n",
       "      <td>Phool Bagan, Kankurgachi</td>\n",
       "      <td>Kolkata</td>\n",
       "      <td>Semi-Furnished</td>\n",
       "      <td>Bachelors/Family</td>\n",
       "      <td>1</td>\n",
       "      <td>Contact Owner</td>\n",
       "    </tr>\n",
       "    <tr>\n",
       "      <th>2</th>\n",
       "      <td>2</td>\n",
       "      <td>17000</td>\n",
       "      <td>1000</td>\n",
       "      <td>1 out of 3</td>\n",
       "      <td>Super Area</td>\n",
       "      <td>Salt Lake City Sector 2</td>\n",
       "      <td>Kolkata</td>\n",
       "      <td>Semi-Furnished</td>\n",
       "      <td>Bachelors/Family</td>\n",
       "      <td>1</td>\n",
       "      <td>Contact Owner</td>\n",
       "    </tr>\n",
       "    <tr>\n",
       "      <th>3</th>\n",
       "      <td>2</td>\n",
       "      <td>10000</td>\n",
       "      <td>800</td>\n",
       "      <td>1 out of 2</td>\n",
       "      <td>Super Area</td>\n",
       "      <td>Dumdum Park</td>\n",
       "      <td>Kolkata</td>\n",
       "      <td>Unfurnished</td>\n",
       "      <td>Bachelors/Family</td>\n",
       "      <td>1</td>\n",
       "      <td>Contact Owner</td>\n",
       "    </tr>\n",
       "    <tr>\n",
       "      <th>4</th>\n",
       "      <td>2</td>\n",
       "      <td>7500</td>\n",
       "      <td>850</td>\n",
       "      <td>1 out of 2</td>\n",
       "      <td>Carpet Area</td>\n",
       "      <td>South Dum Dum</td>\n",
       "      <td>Kolkata</td>\n",
       "      <td>Unfurnished</td>\n",
       "      <td>Bachelors</td>\n",
       "      <td>1</td>\n",
       "      <td>Contact Owner</td>\n",
       "    </tr>\n",
       "  </tbody>\n",
       "</table>\n",
       "</div>"
      ],
      "text/plain": [
       "   BHK   Rent  Size            Floor    Area Type             Area Locality  \\\n",
       "0    2  10000  1100  Ground out of 2   Super Area                    Bandel   \n",
       "1    2  20000   800       1 out of 3   Super Area  Phool Bagan, Kankurgachi   \n",
       "2    2  17000  1000       1 out of 3   Super Area   Salt Lake City Sector 2   \n",
       "3    2  10000   800       1 out of 2   Super Area               Dumdum Park   \n",
       "4    2   7500   850       1 out of 2  Carpet Area             South Dum Dum   \n",
       "\n",
       "      City Furnishing Status  Tenant Preferred  Bathroom Point of Contact  \n",
       "0  Kolkata       Unfurnished  Bachelors/Family         2    Contact Owner  \n",
       "1  Kolkata    Semi-Furnished  Bachelors/Family         1    Contact Owner  \n",
       "2  Kolkata    Semi-Furnished  Bachelors/Family         1    Contact Owner  \n",
       "3  Kolkata       Unfurnished  Bachelors/Family         1    Contact Owner  \n",
       "4  Kolkata       Unfurnished         Bachelors         1    Contact Owner  "
      ]
     },
     "execution_count": 8,
     "metadata": {},
     "output_type": "execute_result"
    }
   ],
   "source": [
    "df.head()"
   ]
  },
  {
   "cell_type": "markdown",
   "id": "45d4259a-d701-41e0-827c-35a2c3cd492c",
   "metadata": {
    "tags": []
   },
   "source": [
    "#### Rent vs Size"
   ]
  },
  {
   "cell_type": "code",
   "execution_count": 9,
   "id": "2ebf37d3-b756-4911-a48e-7e89cf9d5b77",
   "metadata": {},
   "outputs": [
    {
     "data": {
      "text/plain": [
       "<AxesSubplot:xlabel='Size', ylabel='Rent'>"
      ]
     },
     "execution_count": 9,
     "metadata": {},
     "output_type": "execute_result"
    },
    {
     "data": {
      "image/png": "[encoded data removed]",
      "text/plain": [
       "<Figure size 432x288 with 1 Axes>"
      ]
     },
     "metadata": {
      "needs_background": "light"
     },
     "output_type": "display_data"
    }
   ],
   "source": [
    "sns.scatterplot(x='Size',y='Rent', data = df)"
   ]
  },
  {
   "cell_type": "markdown",
   "id": "2298f6ea-37fb-499d-9b82-e8965fafe8e8",
   "metadata": {},
   "source": [
    "We don't have strong correlation between Size & Rent, meaning that a bigger house (Alone!) is not a synonym of an expensive house."
   ]
  },
  {
   "cell_type": "markdown",
   "id": "69a4f91b-3ae4-41cb-808f-95afdac262e6",
   "metadata": {
    "tags": []
   },
   "source": [
    "#### Bathroom vs Rent"
   ]
  },
  {
   "cell_type": "code",
   "execution_count": 10,
   "id": "4b728f45-6314-4175-b9ce-70ae77109c00",
   "metadata": {
    "tags": []
   },
   "outputs": [
    {
     "data": {
      "image/png": "[encoded data removed]",
      "text/plain": [
       "<Figure size 432x288 with 1 Axes>"
      ]
     },
     "metadata": {
      "needs_background": "light"
     },
     "output_type": "display_data"
    }
   ],
   "source": [
    "df_bathroom_mean = df.groupby('Bathroom')['Rent'].mean().round(2)\n",
    "\n",
    "ax = sns.barplot(x = df_bathroom_mean.index, y = df_bathroom_mean.values, data = df_bathroom_mean)\n",
    "ax.set_xticklabels(df_bathroom_mean.index)\n",
    "ax.set(xlabel='Number of Bathrooms', ylabel='Rent')\n",
    "plt.show()"
   ]
  },
  {
   "cell_type": "markdown",
   "id": "8c95fcb1-be68-4b26-b034-864def19beb6",
   "metadata": {},
   "source": [
    "We can clearly see that more bathrooms have a bigger Rent Price in average."
   ]
  },
  {
   "cell_type": "markdown",
   "id": "6e2be50b-bd73-41b1-a06b-03007711f47f",
   "metadata": {
    "tags": []
   },
   "source": [
    "#### Floor vs Rent"
   ]
  },
  {
   "cell_type": "code",
   "execution_count": 50,
   "id": "eb4ea646",
   "metadata": {
    "tags": []
   },
   "outputs": [
    {
     "data": {
      "image/png": "[encoded data removed]",
      "text/plain": [
       "<Figure size 432x288 with 1 Axes>"
      ]
     },
     "metadata": {
      "needs_background": "light"
     },
     "output_type": "display_data"
    }
   ],
   "source": [
    "df_floor_mean = df.groupby('Floor')['Rent'].mean().round(2)\n",
    "\n",
    "ax = sns.barplot(x = df_floor_mean.index, y = df_floor_mean.values, data = df_floor_mean)\n",
    "ax.set_xticklabels(ax.get_xticklabels(),rotation = 90)\n",
    "plt.show()"
   ]
  },
  {
   "cell_type": "markdown",
   "id": "958285f0-00c3-49be-8019-26bd51220d15",
   "metadata": {},
   "source": [
    "The area type is importanto for the definion of Price. Super Area is the area where the wealthier people live, and so on. So, this is an important characteristic for the definition of Price."
   ]
  },
  {
   "cell_type": "markdown",
   "id": "865f1435-4306-4c24-9c80-4c2078a693a0",
   "metadata": {},
   "source": [
    "#### City vs Rent"
   ]
  },
  {
   "cell_type": "code",
   "execution_count": 12,
   "id": "9a04f1aa-482e-495d-9319-cb1e9865c103",
   "metadata": {
    "tags": []
   },
   "outputs": [
    {
     "data": {
      "image/png": "[encoded data removed]",
      "text/plain": [
       "<Figure size 432x288 with 1 Axes>"
      ]
     },
     "metadata": {
      "needs_background": "light"
     },
     "output_type": "display_data"
    }
   ],
   "source": [
    "df_city_mean = df.groupby('City')['Rent'].mean().round(2)\n",
    "\n",
    "ax = sns.barplot(x = df_city_mean.index, y = df_city_mean.values, data = df_city_mean)\n",
    "ax.set_xticklabels(df_city_mean.index)\n",
    "ax.set(xlabel='City', ylabel='Rent')\n",
    "plt.show()"
   ]
  },
  {
   "cell_type": "markdown",
   "id": "8f6a5306-d19a-4723-ac8d-abd6d6771315",
   "metadata": {},
   "source": [
    "The Prices in the capital are way expensive that in the others India locations."
   ]
  },
  {
   "cell_type": "markdown",
   "id": "3707ea02-217d-447c-9e33-18717b9d5ebc",
   "metadata": {
    "tags": []
   },
   "source": [
    "#### Tenant vs Rent & Point of Contact vs Rent"
   ]
  },
  {
   "cell_type": "markdown",
   "id": "2bb503ee-3a30-43d3-aeeb-4ef537835759",
   "metadata": {},
   "source": [
    "This are two of the metrics that I'm more curious about, will the type of people that are renting influenting the price?\n",
    "\n",
    "It's the Point of Contact, an important metric?"
   ]
  },
  {
   "cell_type": "code",
   "execution_count": 13,
   "id": "a3e7df76-45e7-48c6-b597-706aa3e3681a",
   "metadata": {
    "tags": []
   },
   "outputs": [
    {
     "data": {
      "image/png": "[encoded data removed]",
      "text/plain": [
       "<Figure size 720x720 with 1 Axes>"
      ]
     },
     "metadata": {
      "needs_background": "light"
     },
     "output_type": "display_data"
    }
   ],
   "source": [
    "df_tenant_mean = df.groupby(['Tenant Preferred','City'])['Rent'].mean().round(2)\n",
    "\n",
    "fig, ax = plt.subplots(figsize=(10,10))\n",
    "ax = sns.barplot(x = df_tenant_mean.index, y = df_tenant_mean.values, data = df_tenant_mean)\n",
    "ax.set_xticklabels(df_tenant_mean.index, rotation = 30)\n",
    "ax.set(xlabel='City', ylabel='Rent')\n",
    "plt.show()"
   ]
  },
  {
   "cell_type": "markdown",
   "id": "5f0af1e7-6192-4b6f-a59c-9ef79d55b926",
   "metadata": {},
   "source": [
    "With Tenant we can conclude that no matter the City that the house is in, usually, Families have a higher rent than Bachelors for example.\n",
    "\n",
    "Bigger houses, with more compartments are usually linked to bigger families as usual."
   ]
  },
  {
   "cell_type": "code",
   "execution_count": 14,
   "id": "3d05eb41-95c5-4688-b2bd-0e015a571eb0",
   "metadata": {},
   "outputs": [
    {
     "data": {
      "image/png": "[encoded data removed]",
      "text/plain": [
       "<Figure size 432x288 with 1 Axes>"
      ]
     },
     "metadata": {
      "needs_background": "light"
     },
     "output_type": "display_data"
    }
   ],
   "source": [
    "df_pcontact_mean = df.groupby(['Point of Contact','Tenant Preferred'])['Rent'].mean().round(2)\n",
    "\n",
    "ax = sns.barplot(x = df_pcontact_mean.index, y = df_pcontact_mean.values, data = df_pcontact_mean)\n",
    "ax.set_xticklabels(df_pcontact_mean.index, rotation = 90)\n",
    "ax.set(xlabel='Point of Contact', ylabel='Rent')\n",
    "plt.show()"
   ]
  },
  {
   "cell_type": "markdown",
   "id": "7cdec800-a8c3-4de6-ad3c-b68928bc9d80",
   "metadata": {},
   "source": [
    "Well, to be completely honest I was not expecting this. I assume that sales comission were a thing that increased the prices with Contact Agents or even Contact Builders, however I was wrong.\n",
    "\n",
    "Contact Owner probably don't want to negotiate values is what I assume. This metric will be relevant to our model for sure."
   ]
  },
  {
   "cell_type": "markdown",
   "id": "e3064423-91ab-4a1b-90b3-135397a81744",
   "metadata": {
    "tags": []
   },
   "source": [
    "## Encoding Categorical variables"
   ]
  },
  {
   "cell_type": "markdown",
   "id": "edf8d322-c124-4320-bc73-e3038fa21052",
   "metadata": {},
   "source": [
    "We have the following categorical variables."
   ]
  },
  {
   "cell_type": "code",
   "execution_count": 15,
   "id": "0ce36ca5-e4b0-4af3-b065-cde636297839",
   "metadata": {},
   "outputs": [
    {
     "data": {
      "text/plain": [
       "['Floor',\n",
       " 'Area Type',\n",
       " 'Area Locality',\n",
       " 'City',\n",
       " 'Furnishing Status',\n",
       " 'Tenant Preferred',\n",
       " 'Point of Contact']"
      ]
     },
     "execution_count": 15,
     "metadata": {},
     "output_type": "execute_result"
    }
   ],
   "source": [
    "df.select_dtypes(include=['object']).columns.tolist()"
   ]
  },
  {
   "cell_type": "markdown",
   "id": "66c32e59-1b52-4b33-b799-72e6dc92bb24",
   "metadata": {},
   "source": [
    "We have several methods to apply to encode categorical variables namely get_dummies, onehotencoder, labelencoder or a simple mapping.\n",
    "\n",
    "We will use the ones for the purpose that we want. I'm a fan of mapping and onehotencoder and we will base our analysis in this two methods."
   ]
  },
  {
   "cell_type": "code",
   "execution_count": 16,
   "id": "ec1d0d85-3b7b-4d32-9a98-62ffd04dc780",
   "metadata": {},
   "outputs": [
    {
     "name": "stdout",
     "output_type": "stream",
     "text": [
      "Floor has a len of 480\n",
      "Area Type has a len of 3\n",
      "Area Locality has a len of 2235\n",
      "City has a len of 6\n",
      "Furnishing Status has a len of 3\n",
      "Tenant Preferred has a len of 3\n",
      "Point of Contact has a len of 3\n"
     ]
    }
   ],
   "source": [
    "cat = df.select_dtypes(include=['object']).columns.tolist()\n",
    "for column in cat:\n",
    "    print(f'{column} has a len of {len(df[column].unique())}')"
   ]
  },
  {
   "cell_type": "markdown",
   "id": "1a124542-debb-47ca-b301-5e370b20fcc1",
   "metadata": {},
   "source": [
    "#### Area Locality & Floor"
   ]
  },
  {
   "cell_type": "markdown",
   "id": "47653673-6b70-44a4-af41-36cc02786b07",
   "metadata": {},
   "source": [
    "We have two problems here we are not able no map Floor and Area Locality, and we have 480 different entries for Floor and 2235 for Area Locality, this will bring us a big problem. \n",
    "When we OneHot encode(or get_dummies) we will have instead of 2 columns, 480 + 2235, what will make our model ridiculous slow.\n",
    "\n",
    "So we will see how many different datapoints are in the 10 first most common data points."
   ]
  },
  {
   "cell_type": "code",
   "execution_count": 17,
   "id": "5353d018-41bc-48a4-b3ca-a8af0383a41c",
   "metadata": {},
   "outputs": [
    {
     "data": {
      "text/plain": [
       "Bandra West                         37\n",
       "Gachibowli                          29\n",
       "Electronic City                     24\n",
       "Velachery                           22\n",
       "Miyapur, NH 9                       22\n",
       "                                    ..\n",
       "Attur Layout, Yelahanka New Town     1\n",
       "Best Nagar Goregaon West             1\n",
       "RT Nagar                             1\n",
       "Shanti Nagar                         1\n",
       "Sir M V Nagar                        1\n",
       "Name: Area Locality, Length: 2225, dtype: int64"
      ]
     },
     "execution_count": 17,
     "metadata": {},
     "output_type": "execute_result"
    }
   ],
   "source": [
    "df['Area Locality'].value_counts()[:-10]"
   ]
  },
  {
   "cell_type": "markdown",
   "id": "7291c459-e3e6-4cc7-9bf4-d8f1e52d18ec",
   "metadata": {},
   "source": [
    "So we have several locations with 1 entry and the most common has 37. What is not that representative for our model to establish a correct relationships so we will drop this column."
   ]
  },
  {
   "cell_type": "code",
   "execution_count": 18,
   "id": "8395e3dc-213b-4733-8fe3-65fccf35de64",
   "metadata": {},
   "outputs": [],
   "source": [
    "df.drop('Area Locality', axis = 1, inplace = True)"
   ]
  },
  {
   "cell_type": "markdown",
   "id": "7d7c60a0-4ac3-421f-8d8a-cc2bd50e7a43",
   "metadata": {},
   "source": [
    "Regarding Floor as we have a smaller amount of entries, and floor matter as we saw in the graphs instead of having the floor that the apartment is at we will have just the floor."
   ]
  },
  {
   "cell_type": "code",
   "execution_count": 19,
   "id": "79dc6744-a169-489c-859e-7376d0bb6914",
   "metadata": {},
   "outputs": [
    {
     "data": {
      "text/html": [
       "<div>\n",
       "<style scoped>\n",
       "    .dataframe tbody tr th:only-of-type {\n",
       "        vertical-align: middle;\n",
       "    }\n",
       "\n",
       "    .dataframe tbody tr th {\n",
       "        vertical-align: top;\n",
       "    }\n",
       "\n",
       "    .dataframe thead th {\n",
       "        text-align: right;\n",
       "    }\n",
       "</style>\n",
       "<table border=\"1\" class=\"dataframe\">\n",
       "  <thead>\n",
       "    <tr style=\"text-align: right;\">\n",
       "      <th></th>\n",
       "      <th>BHK</th>\n",
       "      <th>Rent</th>\n",
       "      <th>Size</th>\n",
       "      <th>Floor</th>\n",
       "      <th>Area Type</th>\n",
       "      <th>City</th>\n",
       "      <th>Furnishing Status</th>\n",
       "      <th>Tenant Preferred</th>\n",
       "      <th>Bathroom</th>\n",
       "      <th>Point of Contact</th>\n",
       "    </tr>\n",
       "  </thead>\n",
       "  <tbody>\n",
       "    <tr>\n",
       "      <th>0</th>\n",
       "      <td>2</td>\n",
       "      <td>10000</td>\n",
       "      <td>1100</td>\n",
       "      <td>G</td>\n",
       "      <td>Super Area</td>\n",
       "      <td>Kolkata</td>\n",
       "      <td>Unfurnished</td>\n",
       "      <td>Bachelors/Family</td>\n",
       "      <td>2</td>\n",
       "      <td>Contact Owner</td>\n",
       "    </tr>\n",
       "    <tr>\n",
       "      <th>1</th>\n",
       "      <td>2</td>\n",
       "      <td>20000</td>\n",
       "      <td>800</td>\n",
       "      <td>1</td>\n",
       "      <td>Super Area</td>\n",
       "      <td>Kolkata</td>\n",
       "      <td>Semi-Furnished</td>\n",
       "      <td>Bachelors/Family</td>\n",
       "      <td>1</td>\n",
       "      <td>Contact Owner</td>\n",
       "    </tr>\n",
       "    <tr>\n",
       "      <th>2</th>\n",
       "      <td>2</td>\n",
       "      <td>17000</td>\n",
       "      <td>1000</td>\n",
       "      <td>1</td>\n",
       "      <td>Super Area</td>\n",
       "      <td>Kolkata</td>\n",
       "      <td>Semi-Furnished</td>\n",
       "      <td>Bachelors/Family</td>\n",
       "      <td>1</td>\n",
       "      <td>Contact Owner</td>\n",
       "    </tr>\n",
       "    <tr>\n",
       "      <th>3</th>\n",
       "      <td>2</td>\n",
       "      <td>10000</td>\n",
       "      <td>800</td>\n",
       "      <td>1</td>\n",
       "      <td>Super Area</td>\n",
       "      <td>Kolkata</td>\n",
       "      <td>Unfurnished</td>\n",
       "      <td>Bachelors/Family</td>\n",
       "      <td>1</td>\n",
       "      <td>Contact Owner</td>\n",
       "    </tr>\n",
       "    <tr>\n",
       "      <th>4</th>\n",
       "      <td>2</td>\n",
       "      <td>7500</td>\n",
       "      <td>850</td>\n",
       "      <td>1</td>\n",
       "      <td>Carpet Area</td>\n",
       "      <td>Kolkata</td>\n",
       "      <td>Unfurnished</td>\n",
       "      <td>Bachelors</td>\n",
       "      <td>1</td>\n",
       "      <td>Contact Owner</td>\n",
       "    </tr>\n",
       "  </tbody>\n",
       "</table>\n",
       "</div>"
      ],
      "text/plain": [
       "   BHK   Rent  Size Floor    Area Type     City Furnishing Status  \\\n",
       "0    2  10000  1100     G   Super Area  Kolkata       Unfurnished   \n",
       "1    2  20000   800     1   Super Area  Kolkata    Semi-Furnished   \n",
       "2    2  17000  1000     1   Super Area  Kolkata    Semi-Furnished   \n",
       "3    2  10000   800     1   Super Area  Kolkata       Unfurnished   \n",
       "4    2   7500   850     1  Carpet Area  Kolkata       Unfurnished   \n",
       "\n",
       "   Tenant Preferred  Bathroom Point of Contact  \n",
       "0  Bachelors/Family         2    Contact Owner  \n",
       "1  Bachelors/Family         1    Contact Owner  \n",
       "2  Bachelors/Family         1    Contact Owner  \n",
       "3  Bachelors/Family         1    Contact Owner  \n",
       "4         Bachelors         1    Contact Owner  "
      ]
     },
     "execution_count": 19,
     "metadata": {},
     "output_type": "execute_result"
    }
   ],
   "source": [
    "for entry in df['Floor']:    \n",
    "    df['Floor'] = df['Floor'].replace(entry,entry[0])\n",
    "df.head()"
   ]
  },
  {
   "cell_type": "code",
   "execution_count": 20,
   "id": "72312211-5798-443f-8a43-b4ac876fc666",
   "metadata": {},
   "outputs": [
    {
     "data": {
      "text/plain": [
       "array(['G', '1', '2', '4', '3', '5', '7', '8', 'U', 'L', '6', '9'],\n",
       "      dtype=object)"
      ]
     },
     "execution_count": 20,
     "metadata": {},
     "output_type": "execute_result"
    }
   ],
   "source": [
    "df['Floor'].unique()"
   ]
  },
  {
   "cell_type": "markdown",
   "id": "061fd119-72ad-47b2-9838-21b8940de213",
   "metadata": {},
   "source": [
    "As we have G as Ground Floor, let's replace it by 0."
   ]
  },
  {
   "cell_type": "code",
   "execution_count": 21,
   "id": "b18e9aa9-5410-4425-9d37-cf57a2f98800",
   "metadata": {},
   "outputs": [
    {
     "data": {
      "text/html": [
       "<div>\n",
       "<style scoped>\n",
       "    .dataframe tbody tr th:only-of-type {\n",
       "        vertical-align: middle;\n",
       "    }\n",
       "\n",
       "    .dataframe tbody tr th {\n",
       "        vertical-align: top;\n",
       "    }\n",
       "\n",
       "    .dataframe thead th {\n",
       "        text-align: right;\n",
       "    }\n",
       "</style>\n",
       "<table border=\"1\" class=\"dataframe\">\n",
       "  <thead>\n",
       "    <tr style=\"text-align: right;\">\n",
       "      <th></th>\n",
       "      <th>BHK</th>\n",
       "      <th>Rent</th>\n",
       "      <th>Size</th>\n",
       "      <th>Floor</th>\n",
       "      <th>Area Type</th>\n",
       "      <th>City</th>\n",
       "      <th>Furnishing Status</th>\n",
       "      <th>Tenant Preferred</th>\n",
       "      <th>Bathroom</th>\n",
       "      <th>Point of Contact</th>\n",
       "    </tr>\n",
       "  </thead>\n",
       "  <tbody>\n",
       "    <tr>\n",
       "      <th>0</th>\n",
       "      <td>2</td>\n",
       "      <td>10000</td>\n",
       "      <td>1100</td>\n",
       "      <td>0</td>\n",
       "      <td>Super Area</td>\n",
       "      <td>Kolkata</td>\n",
       "      <td>Unfurnished</td>\n",
       "      <td>Bachelors/Family</td>\n",
       "      <td>2</td>\n",
       "      <td>Contact Owner</td>\n",
       "    </tr>\n",
       "    <tr>\n",
       "      <th>1</th>\n",
       "      <td>2</td>\n",
       "      <td>20000</td>\n",
       "      <td>800</td>\n",
       "      <td>1</td>\n",
       "      <td>Super Area</td>\n",
       "      <td>Kolkata</td>\n",
       "      <td>Semi-Furnished</td>\n",
       "      <td>Bachelors/Family</td>\n",
       "      <td>1</td>\n",
       "      <td>Contact Owner</td>\n",
       "    </tr>\n",
       "    <tr>\n",
       "      <th>2</th>\n",
       "      <td>2</td>\n",
       "      <td>17000</td>\n",
       "      <td>1000</td>\n",
       "      <td>1</td>\n",
       "      <td>Super Area</td>\n",
       "      <td>Kolkata</td>\n",
       "      <td>Semi-Furnished</td>\n",
       "      <td>Bachelors/Family</td>\n",
       "      <td>1</td>\n",
       "      <td>Contact Owner</td>\n",
       "    </tr>\n",
       "    <tr>\n",
       "      <th>3</th>\n",
       "      <td>2</td>\n",
       "      <td>10000</td>\n",
       "      <td>800</td>\n",
       "      <td>1</td>\n",
       "      <td>Super Area</td>\n",
       "      <td>Kolkata</td>\n",
       "      <td>Unfurnished</td>\n",
       "      <td>Bachelors/Family</td>\n",
       "      <td>1</td>\n",
       "      <td>Contact Owner</td>\n",
       "    </tr>\n",
       "    <tr>\n",
       "      <th>4</th>\n",
       "      <td>2</td>\n",
       "      <td>7500</td>\n",
       "      <td>850</td>\n",
       "      <td>1</td>\n",
       "      <td>Carpet Area</td>\n",
       "      <td>Kolkata</td>\n",
       "      <td>Unfurnished</td>\n",
       "      <td>Bachelors</td>\n",
       "      <td>1</td>\n",
       "      <td>Contact Owner</td>\n",
       "    </tr>\n",
       "  </tbody>\n",
       "</table>\n",
       "</div>"
      ],
      "text/plain": [
       "   BHK   Rent  Size Floor    Area Type     City Furnishing Status  \\\n",
       "0    2  10000  1100     0   Super Area  Kolkata       Unfurnished   \n",
       "1    2  20000   800     1   Super Area  Kolkata    Semi-Furnished   \n",
       "2    2  17000  1000     1   Super Area  Kolkata    Semi-Furnished   \n",
       "3    2  10000   800     1   Super Area  Kolkata       Unfurnished   \n",
       "4    2   7500   850     1  Carpet Area  Kolkata       Unfurnished   \n",
       "\n",
       "   Tenant Preferred  Bathroom Point of Contact  \n",
       "0  Bachelors/Family         2    Contact Owner  \n",
       "1  Bachelors/Family         1    Contact Owner  \n",
       "2  Bachelors/Family         1    Contact Owner  \n",
       "3  Bachelors/Family         1    Contact Owner  \n",
       "4         Bachelors         1    Contact Owner  "
      ]
     },
     "execution_count": 21,
     "metadata": {},
     "output_type": "execute_result"
    }
   ],
   "source": [
    "df['Floor'] = df['Floor'].replace('G',0)\n",
    "df.head()"
   ]
  },
  {
   "cell_type": "markdown",
   "id": "c93d17a1-ee10-4631-af0d-7f7c9713529d",
   "metadata": {},
   "source": [
    "As we have U - Upper Basement and L - Lower Basement that are immediately below Floor 0.\n",
    "So we will map U with -1 and L with -2."
   ]
  },
  {
   "cell_type": "code",
   "execution_count": 22,
   "id": "d057bae7-763b-4d26-b667-86a5b8bcd2d6",
   "metadata": {},
   "outputs": [],
   "source": [
    "df['Floor'] = df['Floor'].replace('U',-1)\n",
    "df['Floor'] = df['Floor'].replace('L',-2)"
   ]
  },
  {
   "cell_type": "markdown",
   "id": "07b55b8b-05a5-4be5-bf89-8170607c836c",
   "metadata": {},
   "source": [
    "#### Area Type, Furnishing, Tenant and Point of Contact - Feature Engineering"
   ]
  },
  {
   "cell_type": "code",
   "execution_count": 23,
   "id": "03086a1e-75c2-4fea-962a-f7625e43b9c3",
   "metadata": {},
   "outputs": [
    {
     "data": {
      "text/html": [
       "<div>\n",
       "<style scoped>\n",
       "    .dataframe tbody tr th:only-of-type {\n",
       "        vertical-align: middle;\n",
       "    }\n",
       "\n",
       "    .dataframe tbody tr th {\n",
       "        vertical-align: top;\n",
       "    }\n",
       "\n",
       "    .dataframe thead th {\n",
       "        text-align: right;\n",
       "    }\n",
       "</style>\n",
       "<table border=\"1\" class=\"dataframe\">\n",
       "  <thead>\n",
       "    <tr style=\"text-align: right;\">\n",
       "      <th></th>\n",
       "      <th>Area Type</th>\n",
       "      <th>Furnishing Status</th>\n",
       "      <th>Tenant Preferred</th>\n",
       "      <th>Point of Contact</th>\n",
       "    </tr>\n",
       "  </thead>\n",
       "  <tbody>\n",
       "    <tr>\n",
       "      <th>0</th>\n",
       "      <td>Super Area</td>\n",
       "      <td>Unfurnished</td>\n",
       "      <td>Bachelors/Family</td>\n",
       "      <td>Contact Owner</td>\n",
       "    </tr>\n",
       "    <tr>\n",
       "      <th>1</th>\n",
       "      <td>Super Area</td>\n",
       "      <td>Semi-Furnished</td>\n",
       "      <td>Bachelors/Family</td>\n",
       "      <td>Contact Owner</td>\n",
       "    </tr>\n",
       "    <tr>\n",
       "      <th>2</th>\n",
       "      <td>Super Area</td>\n",
       "      <td>Semi-Furnished</td>\n",
       "      <td>Bachelors/Family</td>\n",
       "      <td>Contact Owner</td>\n",
       "    </tr>\n",
       "    <tr>\n",
       "      <th>3</th>\n",
       "      <td>Super Area</td>\n",
       "      <td>Unfurnished</td>\n",
       "      <td>Bachelors/Family</td>\n",
       "      <td>Contact Owner</td>\n",
       "    </tr>\n",
       "    <tr>\n",
       "      <th>4</th>\n",
       "      <td>Carpet Area</td>\n",
       "      <td>Unfurnished</td>\n",
       "      <td>Bachelors</td>\n",
       "      <td>Contact Owner</td>\n",
       "    </tr>\n",
       "  </tbody>\n",
       "</table>\n",
       "</div>"
      ],
      "text/plain": [
       "     Area Type Furnishing Status  Tenant Preferred Point of Contact\n",
       "0   Super Area       Unfurnished  Bachelors/Family    Contact Owner\n",
       "1   Super Area    Semi-Furnished  Bachelors/Family    Contact Owner\n",
       "2   Super Area    Semi-Furnished  Bachelors/Family    Contact Owner\n",
       "3   Super Area       Unfurnished  Bachelors/Family    Contact Owner\n",
       "4  Carpet Area       Unfurnished         Bachelors    Contact Owner"
      ]
     },
     "execution_count": 23,
     "metadata": {},
     "output_type": "execute_result"
    }
   ],
   "source": [
    "df[['Area Type','Furnishing Status', 'Tenant Preferred', 'Point of Contact']].head()"
   ]
  },
  {
   "cell_type": "markdown",
   "id": "42201ff0-974d-4aed-9650-49290ebe7724",
   "metadata": {},
   "source": [
    "We have 3 variables for each of one of columns I will explain How to do so.\n",
    "\n",
    "As it's not binary we need to be aware that the order will be a thing that we need to be careful.\n",
    "\n",
    "Example: Imagine that we had one column that had like the proximity to the sea that could be ('Sea view', '30 minutes to the sea', '60 minutes to the sea'). If we map this like sea view as 0, 60 minutes as 1, 30 minutes as 2. The model will believe that label 1 is closer but it's not true.\n",
    "\n",
    "Our case we need to completely aware that we need to put this in order that makes sense, and if we are not sure we revisit the graphs that we made previously."
   ]
  },
  {
   "cell_type": "code",
   "execution_count": 24,
   "id": "83e8a24d-3398-4fea-9e01-2bbfccaa3059",
   "metadata": {},
   "outputs": [
    {
     "name": "stdout",
     "output_type": "stream",
     "text": [
      "['Super Area' 'Carpet Area' 'Built Area']\n",
      "['Unfurnished' 'Semi-Furnished' 'Furnished']\n",
      "['Bachelors/Family' 'Bachelors' 'Family']\n",
      "['Contact Owner' 'Contact Agent' 'Contact Builder']\n"
     ]
    }
   ],
   "source": [
    "cat_dummies = ['Area Type', 'Furnishing Status','Tenant Preferred','Point of Contact']\n",
    "for col in cat_dummies:\n",
    "    print(df[col].unique())"
   ]
  },
  {
   "cell_type": "code",
   "execution_count": 25,
   "id": "7bc59246-039d-4626-8abf-a6770dc5e7d5",
   "metadata": {},
   "outputs": [
    {
     "data": {
      "text/html": [
       "<div>\n",
       "<style scoped>\n",
       "    .dataframe tbody tr th:only-of-type {\n",
       "        vertical-align: middle;\n",
       "    }\n",
       "\n",
       "    .dataframe tbody tr th {\n",
       "        vertical-align: top;\n",
       "    }\n",
       "\n",
       "    .dataframe thead th {\n",
       "        text-align: right;\n",
       "    }\n",
       "</style>\n",
       "<table border=\"1\" class=\"dataframe\">\n",
       "  <thead>\n",
       "    <tr style=\"text-align: right;\">\n",
       "      <th></th>\n",
       "      <th>Area Type</th>\n",
       "      <th>Furnishing Status</th>\n",
       "      <th>Tenant Preferred</th>\n",
       "      <th>Point of Contact</th>\n",
       "    </tr>\n",
       "  </thead>\n",
       "  <tbody>\n",
       "    <tr>\n",
       "      <th>0</th>\n",
       "      <td>2</td>\n",
       "      <td>0</td>\n",
       "      <td>1</td>\n",
       "      <td>2</td>\n",
       "    </tr>\n",
       "    <tr>\n",
       "      <th>1</th>\n",
       "      <td>2</td>\n",
       "      <td>1</td>\n",
       "      <td>1</td>\n",
       "      <td>2</td>\n",
       "    </tr>\n",
       "    <tr>\n",
       "      <th>2</th>\n",
       "      <td>2</td>\n",
       "      <td>1</td>\n",
       "      <td>1</td>\n",
       "      <td>2</td>\n",
       "    </tr>\n",
       "    <tr>\n",
       "      <th>3</th>\n",
       "      <td>2</td>\n",
       "      <td>0</td>\n",
       "      <td>1</td>\n",
       "      <td>2</td>\n",
       "    </tr>\n",
       "    <tr>\n",
       "      <th>4</th>\n",
       "      <td>1</td>\n",
       "      <td>0</td>\n",
       "      <td>0</td>\n",
       "      <td>2</td>\n",
       "    </tr>\n",
       "  </tbody>\n",
       "</table>\n",
       "</div>"
      ],
      "text/plain": [
       "   Area Type  Furnishing Status  Tenant Preferred  Point of Contact\n",
       "0          2                  0                 1                 2\n",
       "1          2                  1                 1                 2\n",
       "2          2                  1                 1                 2\n",
       "3          2                  0                 1                 2\n",
       "4          1                  0                 0                 2"
      ]
     },
     "execution_count": 25,
     "metadata": {},
     "output_type": "execute_result"
    }
   ],
   "source": [
    "df['Area Type'] = df['Area Type'].map({'Built Area':0,'Carpet Area':1, 'Super Area': 2})\n",
    "df['Furnishing Status'] = df['Furnishing Status'].map({'Unfurnished':0,'Semi-Furnished':1, 'Furnished': 2})\n",
    "df['Tenant Preferred'] = df['Tenant Preferred'].map({'Bachelors':0,'Bachelors/Family':1, 'Family': 2})\n",
    "df['Point of Contact'] = df['Point of Contact'].map({'Contact Agent':0,'Contact Builder':1, 'Contact Owner': 2})\n",
    "df[['Area Type','Furnishing Status', 'Tenant Preferred', 'Point of Contact']].head()"
   ]
  },
  {
   "cell_type": "markdown",
   "id": "666aa3a7-80cf-428b-9213-cd5724845ca5",
   "metadata": {},
   "source": [
    "#### City OneHotEncoder"
   ]
  },
  {
   "cell_type": "code",
   "execution_count": 26,
   "id": "18371614-7ffb-4def-9be6-d69aff930a5e",
   "metadata": {},
   "outputs": [
    {
     "data": {
      "text/plain": [
       "(4746, 10)"
      ]
     },
     "execution_count": 26,
     "metadata": {},
     "output_type": "execute_result"
    }
   ],
   "source": [
    "df.shape"
   ]
  },
  {
   "cell_type": "code",
   "execution_count": 27,
   "id": "becc0795-6e1a-4c1b-b8fd-ffa40da2811c",
   "metadata": {},
   "outputs": [
    {
     "data": {
      "text/plain": [
       "(4746, 15)"
      ]
     },
     "execution_count": 27,
     "metadata": {},
     "output_type": "execute_result"
    }
   ],
   "source": [
    "#Import the library\n",
    "\n",
    "from sklearn.preprocessing import OneHotEncoder\n",
    "\n",
    "#If you still have NaN numbers use ignore. We want an array to integrate in the dataframe\n",
    "\n",
    "encoder = OneHotEncoder(sparse=False, handle_unknown='ignore')\n",
    "\n",
    "#Build another DataFrame with the columns that we want to encode\n",
    "\n",
    "df_encoded = pd.DataFrame(encoder.fit_transform(df[['City']]))\n",
    "\n",
    "#Get the name of the features to be able to add to the columns now created\n",
    "\n",
    "df_encoded.columns = encoder.get_feature_names_out(['City'])\n",
    "\n",
    "#Drop the categorical columns from the original dataset\n",
    "\n",
    "df.drop(['City'] ,axis=1, inplace=True)\n",
    "\n",
    "#Concatenate the two dataframes\n",
    "df = pd.concat([df, df_encoded], axis=1)\n",
    "\n",
    "#Optional:I had some NaN values on the final dataset that I removed it.\n",
    "\n",
    "df.shape"
   ]
  },
  {
   "cell_type": "markdown",
   "id": "e57d63d7-b498-409e-9753-ef18c2f8da67",
   "metadata": {},
   "source": [
    "## Add Columns"
   ]
  },
  {
   "cell_type": "code",
   "execution_count": 28,
   "id": "a66b38f5-9741-4a67-be43-de60ee603bd5",
   "metadata": {},
   "outputs": [
    {
     "data": {
      "text/html": [
       "<div>\n",
       "<style scoped>\n",
       "    .dataframe tbody tr th:only-of-type {\n",
       "        vertical-align: middle;\n",
       "    }\n",
       "\n",
       "    .dataframe tbody tr th {\n",
       "        vertical-align: top;\n",
       "    }\n",
       "\n",
       "    .dataframe thead th {\n",
       "        text-align: right;\n",
       "    }\n",
       "</style>\n",
       "<table border=\"1\" class=\"dataframe\">\n",
       "  <thead>\n",
       "    <tr style=\"text-align: right;\">\n",
       "      <th></th>\n",
       "      <th>BHK</th>\n",
       "      <th>Rent</th>\n",
       "      <th>Size</th>\n",
       "      <th>Floor</th>\n",
       "      <th>Area Type</th>\n",
       "      <th>Furnishing Status</th>\n",
       "      <th>Tenant Preferred</th>\n",
       "      <th>Bathroom</th>\n",
       "      <th>Point of Contact</th>\n",
       "      <th>City_Bangalore</th>\n",
       "      <th>City_Chennai</th>\n",
       "      <th>City_Delhi</th>\n",
       "      <th>City_Hyderabad</th>\n",
       "      <th>City_Kolkata</th>\n",
       "      <th>City_Mumbai</th>\n",
       "    </tr>\n",
       "  </thead>\n",
       "  <tbody>\n",
       "    <tr>\n",
       "      <th>0</th>\n",
       "      <td>2</td>\n",
       "      <td>10000</td>\n",
       "      <td>1100</td>\n",
       "      <td>0</td>\n",
       "      <td>2</td>\n",
       "      <td>0</td>\n",
       "      <td>1</td>\n",
       "      <td>2</td>\n",
       "      <td>2</td>\n",
       "      <td>0.0</td>\n",
       "      <td>0.0</td>\n",
       "      <td>0.0</td>\n",
       "      <td>0.0</td>\n",
       "      <td>1.0</td>\n",
       "      <td>0.0</td>\n",
       "    </tr>\n",
       "    <tr>\n",
       "      <th>1</th>\n",
       "      <td>2</td>\n",
       "      <td>20000</td>\n",
       "      <td>800</td>\n",
       "      <td>1</td>\n",
       "      <td>2</td>\n",
       "      <td>1</td>\n",
       "      <td>1</td>\n",
       "      <td>1</td>\n",
       "      <td>2</td>\n",
       "      <td>0.0</td>\n",
       "      <td>0.0</td>\n",
       "      <td>0.0</td>\n",
       "      <td>0.0</td>\n",
       "      <td>1.0</td>\n",
       "      <td>0.0</td>\n",
       "    </tr>\n",
       "    <tr>\n",
       "      <th>2</th>\n",
       "      <td>2</td>\n",
       "      <td>17000</td>\n",
       "      <td>1000</td>\n",
       "      <td>1</td>\n",
       "      <td>2</td>\n",
       "      <td>1</td>\n",
       "      <td>1</td>\n",
       "      <td>1</td>\n",
       "      <td>2</td>\n",
       "      <td>0.0</td>\n",
       "      <td>0.0</td>\n",
       "      <td>0.0</td>\n",
       "      <td>0.0</td>\n",
       "      <td>1.0</td>\n",
       "      <td>0.0</td>\n",
       "    </tr>\n",
       "    <tr>\n",
       "      <th>3</th>\n",
       "      <td>2</td>\n",
       "      <td>10000</td>\n",
       "      <td>800</td>\n",
       "      <td>1</td>\n",
       "      <td>2</td>\n",
       "      <td>0</td>\n",
       "      <td>1</td>\n",
       "      <td>1</td>\n",
       "      <td>2</td>\n",
       "      <td>0.0</td>\n",
       "      <td>0.0</td>\n",
       "      <td>0.0</td>\n",
       "      <td>0.0</td>\n",
       "      <td>1.0</td>\n",
       "      <td>0.0</td>\n",
       "    </tr>\n",
       "    <tr>\n",
       "      <th>4</th>\n",
       "      <td>2</td>\n",
       "      <td>7500</td>\n",
       "      <td>850</td>\n",
       "      <td>1</td>\n",
       "      <td>1</td>\n",
       "      <td>0</td>\n",
       "      <td>0</td>\n",
       "      <td>1</td>\n",
       "      <td>2</td>\n",
       "      <td>0.0</td>\n",
       "      <td>0.0</td>\n",
       "      <td>0.0</td>\n",
       "      <td>0.0</td>\n",
       "      <td>1.0</td>\n",
       "      <td>0.0</td>\n",
       "    </tr>\n",
       "  </tbody>\n",
       "</table>\n",
       "</div>"
      ],
      "text/plain": [
       "   BHK   Rent  Size Floor  Area Type  Furnishing Status  Tenant Preferred  \\\n",
       "0    2  10000  1100     0          2                  0                 1   \n",
       "1    2  20000   800     1          2                  1                 1   \n",
       "2    2  17000  1000     1          2                  1                 1   \n",
       "3    2  10000   800     1          2                  0                 1   \n",
       "4    2   7500   850     1          1                  0                 0   \n",
       "\n",
       "   Bathroom  Point of Contact  City_Bangalore  City_Chennai  City_Delhi  \\\n",
       "0         2                 2             0.0           0.0         0.0   \n",
       "1         1                 2             0.0           0.0         0.0   \n",
       "2         1                 2             0.0           0.0         0.0   \n",
       "3         1                 2             0.0           0.0         0.0   \n",
       "4         1                 2             0.0           0.0         0.0   \n",
       "\n",
       "   City_Hyderabad  City_Kolkata  City_Mumbai  \n",
       "0             0.0           1.0          0.0  \n",
       "1             0.0           1.0          0.0  \n",
       "2             0.0           1.0          0.0  \n",
       "3             0.0           1.0          0.0  \n",
       "4             0.0           1.0          0.0  "
      ]
     },
     "execution_count": 28,
     "metadata": {},
     "output_type": "execute_result"
    }
   ],
   "source": [
    "df.head()"
   ]
  },
  {
   "cell_type": "markdown",
   "id": "bcb33174-67f3-4932-b9cd-7b184becd9a3",
   "metadata": {},
   "source": [
    "We will introduce some changes in our dataset,\n",
    "\n",
    "- We will sum BHK with Bathrooms, and we have the all compartments in an apartment/house.\n",
    "- We will add a column that is the price per square feet.\n",
    "- We will add a column that is the price per compartment"
   ]
  },
  {
   "cell_type": "code",
   "execution_count": 29,
   "id": "0887a7fb-d7d3-47bb-b86c-66ec34a04aaa",
   "metadata": {
    "tags": []
   },
   "outputs": [
    {
     "data": {
      "text/html": [
       "<div>\n",
       "<style scoped>\n",
       "    .dataframe tbody tr th:only-of-type {\n",
       "        vertical-align: middle;\n",
       "    }\n",
       "\n",
       "    .dataframe tbody tr th {\n",
       "        vertical-align: top;\n",
       "    }\n",
       "\n",
       "    .dataframe thead th {\n",
       "        text-align: right;\n",
       "    }\n",
       "</style>\n",
       "<table border=\"1\" class=\"dataframe\">\n",
       "  <thead>\n",
       "    <tr style=\"text-align: right;\">\n",
       "      <th></th>\n",
       "      <th>Rent</th>\n",
       "      <th>Floor</th>\n",
       "      <th>Area Type</th>\n",
       "      <th>Furnishing Status</th>\n",
       "      <th>Tenant Preferred</th>\n",
       "      <th>Point of Contact</th>\n",
       "      <th>City_Bangalore</th>\n",
       "      <th>City_Chennai</th>\n",
       "      <th>City_Delhi</th>\n",
       "      <th>City_Hyderabad</th>\n",
       "      <th>City_Kolkata</th>\n",
       "      <th>City_Mumbai</th>\n",
       "      <th>Compartments</th>\n",
       "      <th>price_per_square_feet</th>\n",
       "      <th>price_per_compartment</th>\n",
       "    </tr>\n",
       "  </thead>\n",
       "  <tbody>\n",
       "    <tr>\n",
       "      <th>0</th>\n",
       "      <td>10000</td>\n",
       "      <td>0</td>\n",
       "      <td>2</td>\n",
       "      <td>0</td>\n",
       "      <td>1</td>\n",
       "      <td>2</td>\n",
       "      <td>0.0</td>\n",
       "      <td>0.0</td>\n",
       "      <td>0.0</td>\n",
       "      <td>0.0</td>\n",
       "      <td>1.0</td>\n",
       "      <td>0.0</td>\n",
       "      <td>4</td>\n",
       "      <td>9.090909</td>\n",
       "      <td>2500.000000</td>\n",
       "    </tr>\n",
       "    <tr>\n",
       "      <th>1</th>\n",
       "      <td>20000</td>\n",
       "      <td>1</td>\n",
       "      <td>2</td>\n",
       "      <td>1</td>\n",
       "      <td>1</td>\n",
       "      <td>2</td>\n",
       "      <td>0.0</td>\n",
       "      <td>0.0</td>\n",
       "      <td>0.0</td>\n",
       "      <td>0.0</td>\n",
       "      <td>1.0</td>\n",
       "      <td>0.0</td>\n",
       "      <td>3</td>\n",
       "      <td>25.000000</td>\n",
       "      <td>6666.666667</td>\n",
       "    </tr>\n",
       "    <tr>\n",
       "      <th>2</th>\n",
       "      <td>17000</td>\n",
       "      <td>1</td>\n",
       "      <td>2</td>\n",
       "      <td>1</td>\n",
       "      <td>1</td>\n",
       "      <td>2</td>\n",
       "      <td>0.0</td>\n",
       "      <td>0.0</td>\n",
       "      <td>0.0</td>\n",
       "      <td>0.0</td>\n",
       "      <td>1.0</td>\n",
       "      <td>0.0</td>\n",
       "      <td>3</td>\n",
       "      <td>17.000000</td>\n",
       "      <td>5666.666667</td>\n",
       "    </tr>\n",
       "    <tr>\n",
       "      <th>3</th>\n",
       "      <td>10000</td>\n",
       "      <td>1</td>\n",
       "      <td>2</td>\n",
       "      <td>0</td>\n",
       "      <td>1</td>\n",
       "      <td>2</td>\n",
       "      <td>0.0</td>\n",
       "      <td>0.0</td>\n",
       "      <td>0.0</td>\n",
       "      <td>0.0</td>\n",
       "      <td>1.0</td>\n",
       "      <td>0.0</td>\n",
       "      <td>3</td>\n",
       "      <td>12.500000</td>\n",
       "      <td>3333.333333</td>\n",
       "    </tr>\n",
       "    <tr>\n",
       "      <th>4</th>\n",
       "      <td>7500</td>\n",
       "      <td>1</td>\n",
       "      <td>1</td>\n",
       "      <td>0</td>\n",
       "      <td>0</td>\n",
       "      <td>2</td>\n",
       "      <td>0.0</td>\n",
       "      <td>0.0</td>\n",
       "      <td>0.0</td>\n",
       "      <td>0.0</td>\n",
       "      <td>1.0</td>\n",
       "      <td>0.0</td>\n",
       "      <td>3</td>\n",
       "      <td>8.823529</td>\n",
       "      <td>2500.000000</td>\n",
       "    </tr>\n",
       "  </tbody>\n",
       "</table>\n",
       "</div>"
      ],
      "text/plain": [
       "    Rent Floor  Area Type  Furnishing Status  Tenant Preferred  \\\n",
       "0  10000     0          2                  0                 1   \n",
       "1  20000     1          2                  1                 1   \n",
       "2  17000     1          2                  1                 1   \n",
       "3  10000     1          2                  0                 1   \n",
       "4   7500     1          1                  0                 0   \n",
       "\n",
       "   Point of Contact  City_Bangalore  City_Chennai  City_Delhi  City_Hyderabad  \\\n",
       "0                 2             0.0           0.0         0.0             0.0   \n",
       "1                 2             0.0           0.0         0.0             0.0   \n",
       "2                 2             0.0           0.0         0.0             0.0   \n",
       "3                 2             0.0           0.0         0.0             0.0   \n",
       "4                 2             0.0           0.0         0.0             0.0   \n",
       "\n",
       "   City_Kolkata  City_Mumbai  Compartments  price_per_square_feet  \\\n",
       "0           1.0          0.0             4               9.090909   \n",
       "1           1.0          0.0             3              25.000000   \n",
       "2           1.0          0.0             3              17.000000   \n",
       "3           1.0          0.0             3              12.500000   \n",
       "4           1.0          0.0             3               8.823529   \n",
       "\n",
       "   price_per_compartment  \n",
       "0            2500.000000  \n",
       "1            6666.666667  \n",
       "2            5666.666667  \n",
       "3            3333.333333  \n",
       "4            2500.000000  "
      ]
     },
     "execution_count": 29,
     "metadata": {},
     "output_type": "execute_result"
    }
   ],
   "source": [
    "#calculate the number of compartments\n",
    "df['Compartments'] = df['BHK'] + df['Bathroom']\n",
    "\n",
    "#calculate the price per square feet\n",
    "df['price_per_square_feet'] = df['Rent'] / df['Size']\n",
    "\n",
    "#calculate the price per compartment\n",
    "df['price_per_compartment'] = df['Rent'] / df['Compartments']\n",
    "\n",
    "#Drop the two columns\n",
    "df.drop(['BHK','Bathroom', 'Size'], axis = 1, inplace = True)\n",
    "\n",
    "df.head()"
   ]
  },
  {
   "cell_type": "markdown",
   "id": "7e4facf7-4900-44b5-abbd-95f07b844e58",
   "metadata": {},
   "source": [
    "To finalize the datapreprocessing we need to pass our column 'Floor' that is a string to a int."
   ]
  },
  {
   "cell_type": "code",
   "execution_count": 30,
   "id": "a65dd454-78c8-4bfd-9970-1837d179813f",
   "metadata": {},
   "outputs": [
    {
     "data": {
      "text/plain": [
       "1     1493\n",
       "2     1004\n",
       "0      927\n",
       "3      532\n",
       "4      284\n",
       "5      167\n",
       "6       99\n",
       "7       75\n",
       "8       66\n",
       "9       65\n",
       "-1      23\n",
       "-2      11\n",
       "Name: Floor, dtype: int64"
      ]
     },
     "execution_count": 30,
     "metadata": {},
     "output_type": "execute_result"
    }
   ],
   "source": [
    "df['Floor'].value_counts()"
   ]
  },
  {
   "cell_type": "code",
   "execution_count": 31,
   "id": "3d558de4-f47a-4deb-af5f-2afbfbf7d835",
   "metadata": {},
   "outputs": [],
   "source": [
    "df['Floor'] = df['Floor'].astype('float')"
   ]
  },
  {
   "cell_type": "code",
   "execution_count": 32,
   "id": "03b8a823-49dd-40cc-9cf5-3a2ccb9862f4",
   "metadata": {},
   "outputs": [
    {
     "data": {
      "text/plain": [
       "<AxesSubplot:xlabel='Rent'>"
      ]
     },
     "execution_count": 32,
     "metadata": {},
     "output_type": "execute_result"
    },
    {
     "data": {
      "image/png": "[encoded data removed]",
      "text/plain": [
       "<Figure size 432x288 with 1 Axes>"
      ]
     },
     "metadata": {
      "needs_background": "light"
     },
     "output_type": "display_data"
    }
   ],
   "source": [
    "sns.boxplot(x = df['Rent'], data = df)"
   ]
  },
  {
   "cell_type": "code",
   "execution_count": 33,
   "id": "00565aad-d933-4739-aaba-14c02cdfba68",
   "metadata": {},
   "outputs": [],
   "source": [
    "#calculate the q75, 125\n",
    "q75,q25 = np.percentile(df['Rent'], [75,25])\n",
    "\n",
    "#calculate iqr\n",
    "iqr = q75 - q25\n",
    "\n",
    "#define the maximum whisker\n",
    "max_whi = q75+(1.5*iqr)\n",
    "\n",
    "#define the minimum whisker\n",
    "min_whi = q75-(1.5*iqr)"
   ]
  },
  {
   "cell_type": "code",
   "execution_count": 34,
   "id": "5922d765-4db7-453a-917e-67ffe2a8d3bb",
   "metadata": {},
   "outputs": [],
   "source": [
    "to_drop = df[(df['Rent'] > max_whi) | (df['Rent'] < min_whi)].index.values\n",
    "df.drop(to_drop, inplace = True)"
   ]
  },
  {
   "cell_type": "code",
   "execution_count": 35,
   "id": "32dc7bc9-26a4-4a9b-b7d5-66e94d598064",
   "metadata": {},
   "outputs": [
    {
     "data": {
      "text/plain": [
       "Rent                     0\n",
       "Floor                    0\n",
       "Area Type                0\n",
       "Furnishing Status        0\n",
       "Tenant Preferred         0\n",
       "Point of Contact         0\n",
       "City_Bangalore           0\n",
       "City_Chennai             0\n",
       "City_Delhi               0\n",
       "City_Hyderabad           0\n",
       "City_Kolkata             0\n",
       "City_Mumbai              0\n",
       "Compartments             0\n",
       "price_per_square_feet    0\n",
       "price_per_compartment    0\n",
       "dtype: int64"
      ]
     },
     "execution_count": 35,
     "metadata": {},
     "output_type": "execute_result"
    }
   ],
   "source": [
    "df.isna().sum()"
   ]
  },
  {
   "cell_type": "markdown",
   "id": "8aa34324-d740-4a6d-890d-27a2c80edf96",
   "metadata": {},
   "source": [
    "## Modelling"
   ]
  },
  {
   "cell_type": "markdown",
   "id": "2adbe602-0193-453e-9e69-dfe7a8ad20c7",
   "metadata": {},
   "source": [
    "#### Split the data in Train & Test"
   ]
  },
  {
   "cell_type": "code",
   "execution_count": 36,
   "id": "f922ac4d-2783-4ea3-a099-ce878c45417b",
   "metadata": {},
   "outputs": [],
   "source": [
    "X = df.drop('Rent', axis = 1)\n",
    "y = df['Rent']"
   ]
  },
  {
   "cell_type": "code",
   "execution_count": 37,
   "id": "df56bc5d-aa48-4ecc-8c64-a0027c6a1064",
   "metadata": {},
   "outputs": [],
   "source": [
    "from sklearn.model_selection import train_test_split\n",
    "X_train, X_test, y_train, y_test = train_test_split(X,y, test_size = 0.2, random_state = 42)"
   ]
  },
  {
   "cell_type": "markdown",
   "id": "81333d2a-c552-46ef-877f-ab2ddba9fdaf",
   "metadata": {},
   "source": [
    "#### StandardScaling"
   ]
  },
  {
   "cell_type": "markdown",
   "id": "38d15ba0-fc96-4bbc-85de-40d9ff1c0088",
   "metadata": {},
   "source": [
    "First we will scale the dataset, because we have different level of values (p.ex 'price_per_compartment - Point of Contact')"
   ]
  },
  {
   "cell_type": "code",
   "execution_count": 38,
   "id": "52599461-386d-4af3-a49c-0b6c25981d8b",
   "metadata": {
    "tags": []
   },
   "outputs": [],
   "source": [
    "from sklearn.preprocessing import StandardScaler\n",
    "scaler = StandardScaler()\n",
    "X_train = scaler.fit_transform(X_train)\n",
    "X_test = scaler.transform(X_test)"
   ]
  },
  {
   "cell_type": "code",
   "execution_count": 51,
   "id": "5e1faf02-b363-407a-821f-b302e6b7f566",
   "metadata": {},
   "outputs": [],
   "source": [
    "from sklearn.linear_model import Lasso, Ridge, LinearRegression, ElasticNet, LassoLars, BayesianRidge, SGDRegressor\n",
    "from sklearn.ensemble import RandomForestRegressor\n",
    "from sklearn.tree import DecisionTreeRegressor\n",
    "from sklearn.model_selection import KFold, cross_validate\n",
    "from sklearn.metrics import mean_squared_error,explained_variance_score,mean_squared_error"
   ]
  },
  {
   "cell_type": "code",
   "execution_count": 123,
   "id": "00cfda1b-2ed6-474e-aa92-b831381508dd",
   "metadata": {
    "tags": []
   },
   "outputs": [
    {
     "data": {
      "text/html": [
       "<div>\n",
       "<style scoped>\n",
       "    .dataframe tbody tr th:only-of-type {\n",
       "        vertical-align: middle;\n",
       "    }\n",
       "\n",
       "    .dataframe tbody tr th {\n",
       "        vertical-align: top;\n",
       "    }\n",
       "\n",
       "    .dataframe thead th {\n",
       "        text-align: right;\n",
       "    }\n",
       "</style>\n",
       "<table border=\"1\" class=\"dataframe\">\n",
       "  <thead>\n",
       "    <tr style=\"text-align: right;\">\n",
       "      <th></th>\n",
       "      <th>LinearRegression</th>\n",
       "      <th>Lasso</th>\n",
       "      <th>Ridge</th>\n",
       "      <th>DecisionTree</th>\n",
       "      <th>RandomForestRegressor</th>\n",
       "      <th>ElasticNet</th>\n",
       "      <th>LassoLars</th>\n",
       "      <th>BayesianRidge</th>\n",
       "      <th>SGD Regressor</th>\n",
       "    </tr>\n",
       "  </thead>\n",
       "  <tbody>\n",
       "    <tr>\n",
       "      <th>explained_variance_score</th>\n",
       "      <td>0.91</td>\n",
       "      <td>0.91</td>\n",
       "      <td>0.91</td>\n",
       "      <td>1.0</td>\n",
       "      <td>1.00</td>\n",
       "      <td>0.82</td>\n",
       "      <td>0.91</td>\n",
       "      <td>0.91</td>\n",
       "      <td>0.91</td>\n",
       "    </tr>\n",
       "    <tr>\n",
       "      <th>mean_squared_error</th>\n",
       "      <td>4247.62</td>\n",
       "      <td>4247.54</td>\n",
       "      <td>4247.54</td>\n",
       "      <td>0.0</td>\n",
       "      <td>246.07</td>\n",
       "      <td>5933.35</td>\n",
       "      <td>4247.54</td>\n",
       "      <td>4247.54</td>\n",
       "      <td>4254.03</td>\n",
       "    </tr>\n",
       "  </tbody>\n",
       "</table>\n",
       "</div>"
      ],
      "text/plain": [
       "                          LinearRegression    Lasso    Ridge  DecisionTree  \\\n",
       "explained_variance_score              0.91     0.91     0.91           1.0   \n",
       "mean_squared_error                 4247.62  4247.54  4247.54           0.0   \n",
       "\n",
       "                          RandomForestRegressor  ElasticNet  LassoLars  \\\n",
       "explained_variance_score                   1.00        0.82       0.91   \n",
       "mean_squared_error                       246.07     5933.35    4247.54   \n",
       "\n",
       "                          BayesianRidge  SGD Regressor  \n",
       "explained_variance_score           0.91           0.91  \n",
       "mean_squared_error              4247.54        4254.03  "
      ]
     },
     "execution_count": 123,
     "metadata": {},
     "output_type": "execute_result"
    }
   ],
   "source": [
    "'''Models'''\n",
    "\n",
    "#Define your models inside a list, dont'forget that this should be a tuple, with the name and the model that you want to test\n",
    "models = [\n",
    "          ('LinearRegression', LinearRegression()), \n",
    "          ('Lasso', Lasso()),\n",
    "          ('Ridge', Ridge()),\n",
    "          ('DecisionTree', DecisionTreeRegressor()),\n",
    "          ('RandomForestRegressor',RandomForestRegressor()),\n",
    "          ('ElasticNet', ElasticNet()),\n",
    "          ('LassoLars', LassoLars(normalize = False)),\n",
    "          ('BayesianRidge', BayesianRidge()),\n",
    "          ('SGD Regressor', SGDRegressor())\n",
    "        ]\n",
    "\n",
    "'''Accuracy'''\n",
    "\n",
    "#In this chapter you will focus in the accuracy metrics that you want to access\n",
    "#We will access the most significant f1score,recall,precission, roc_auc, and accuracy\n",
    "\n",
    "scoring_metrics = ['r2']\n",
    "\n",
    "#Initialize with the index of the metrics that you want to evaluate our model\n",
    "\n",
    "dict_metrics = pd.DataFrame(index = ['explained_variance_score','mean_squared_error'])\n",
    "\n",
    "#We will apply kfold in 5 splits (default value) and cross validation too\n",
    "\n",
    "for model_name, model in models:\n",
    "    #Initiate KFold\n",
    "    kfold = KFold(n_splits = 5, shuffle = True, random_state = 42)\n",
    "    \n",
    "    #Perform a cross validate (this one will record fit/score times\n",
    "    #Don't forget that we will use kfold as our cv, logic that we will have cv = 5 as we chose 5 splits.\n",
    "    cv = cross_validate(model, X_train, y_train, cv = kfold, scoring = scoring_metrics)\n",
    "    \n",
    "    #Fit the model to the data\n",
    "    model_fit = model.fit(X_train, y_train)\n",
    "    \n",
    "    #Predict X_test\n",
    "    y_pred = model_fit.predict(X_train)\n",
    "    \n",
    "    dict_metrics[model_name] = [np.round(explained_variance_score(y_train, y_pred),2), np.round(np.sqrt(mean_squared_error(y_train, y_pred)),2)]\n",
    "    \n",
    "dict_metrics"
   ]
  },
  {
   "cell_type": "code",
   "execution_count": 197,
   "id": "28cc7305-7012-4c67-94fa-85d41440fe7c",
   "metadata": {},
   "outputs": [
    {
     "data": {
      "text/plain": [
       "19349.54852071006"
      ]
     },
     "execution_count": 197,
     "metadata": {},
     "output_type": "execute_result"
    }
   ],
   "source": [
    "y_train.mean()"
   ]
  },
  {
   "cell_type": "markdown",
   "id": "847a1841-112b-4ccd-b506-044cd9308c6b",
   "metadata": {},
   "source": [
    "Looking to to the results, we can conclude the following,\n",
    "\n",
    "- Explained Variance is very good sitting between 82 - 100% meaning that our model is close to perfection.\n",
    "\n",
    "- Mean Squared Error is acceptable.\n",
    "\n",
    "- In the other hand. Decision tree achieves a mean_squared_error of 0, meaning that the model is overfitting.\n",
    "\n",
    "- ElasticNet was clearly the worst model.\n",
    "\n",
    "- We have 1 very promising (RFRegressor) that is overfitting I believe, one that you need to check because is clearly overfitting (RFRegressor) and one that that I want to test. So we will fine tune the models and choose one of them."
   ]
  },
  {
   "cell_type": "markdown",
   "id": "524a4df9-6245-4395-9be1-9c597c8a6a50",
   "metadata": {},
   "source": [
    "#### SGDRegressor - Hyperparameter Tuning"
   ]
  },
  {
   "cell_type": "code",
   "execution_count": 198,
   "id": "462f449c-f6a5-4516-98b2-c1a72d3fa6dd",
   "metadata": {},
   "outputs": [
    {
     "name": "stdout",
     "output_type": "stream",
     "text": [
      "The data fit regression model: 0.9047041199310323\n",
      "The mean squared error is 4244.8587019218985\n",
      "The best params for the SGDRegressor: {'penalty': 'l2', 'loss': 'squared_error', 'learning_rate': 'optimal', 'alpha': 0.01}\n"
     ]
    }
   ],
   "source": [
    "from sklearn.linear_model import SGDRegressor\n",
    "from sklearn.model_selection import RandomizedSearchCV\n",
    "\n",
    "\n",
    "param_grid = [{'loss' : ['squared_error', 'huber', 'epsilon_insensitive'],\n",
    "                'penalty' : ['l1', 'l2', 'elasticnet'],\n",
    "                'alpha' : [0.0001, 0.001, 0.01, 0.1, 1, 10, 100, 1000],\n",
    "                'learning_rate' : ['constant', 'optimal', 'invscaling', 'adaptive']}\n",
    "             ]\n",
    "\n",
    "sgd_reg = SGDRegressor()\n",
    "\n",
    "radomized_sgd = RandomizedSearchCV(sgd_reg,param_grid, cv=10, return_train_score=True, n_jobs = -1)\n",
    "\n",
    "radomized_sgd.fit(X_train, y_train)\n",
    "\n",
    "Y_pred = radomized_sgd.predict(X_test)\n",
    "\n",
    "R2_score = radomized_sgd.score(X_train, y_train)\n",
    "\n",
    "RMSE_score = np.sqrt(mean_squared_error(y_test, Y_pred))\n",
    "\n",
    "print(f'The data fit regression model: {R2_score}')\n",
    "print(f'The mean squared error is {RMSE_score}')\n",
    "print(f'The best params for the SGDRegressor: {radomized_sgd.best_params_}')"
   ]
  },
  {
   "cell_type": "markdown",
   "id": "e481b70a-4b9f-4f52-a637-d25b0c1d4369",
   "metadata": {},
   "source": [
    "We were able to fine tune the model. It is a good fit, near 1.0, however the mean squared error is too high."
   ]
  },
  {
   "cell_type": "markdown",
   "id": "e055e44d-702c-468f-af7d-040a939a4041",
   "metadata": {},
   "source": [
    "#### RandomForestRegressor - Hyperparameter Tuning"
   ]
  },
  {
   "cell_type": "code",
   "execution_count": 202,
   "id": "6f0976d8-89a5-44bd-9a3b-c9ef5b0147cd",
   "metadata": {},
   "outputs": [
    {
     "name": "stdout",
     "output_type": "stream",
     "text": [
      "The data fit regression model: 0.9999999752050237\n",
      "The mean squared error is 1372.0804050980032\n",
      "The best params for the RandomForestRegressor: {'bootstrap': False, 'max_features': 7, 'n_estimators': 25}\n"
     ]
    }
   ],
   "source": [
    "from sklearn.model_selection import GridSearchCV\n",
    "\n",
    "param_grid = [{'bootstrap' : [False],'n_estimators':np.arange(1,30,2),'max_features':np.arange(1,10,3)}]\n",
    "\n",
    "forest_reg = RandomForestRegressor()\n",
    "\n",
    "gridsearch_forest = GridSearchCV(forest_reg,param_grid, cv=10, return_train_score=True, n_jobs = -1)\n",
    "\n",
    "gridsearch_forest.fit(X_train, y_train)\n",
    "\n",
    "Y_pred = gridsearch_forest.predict(X_test)\n",
    "\n",
    "R2_score = gridsearch_forest.score(X_train, y_train)\n",
    "\n",
    "RMSE_score = np.sqrt(mean_squared_error(y_test, Y_pred))\n",
    "\n",
    "print(f'The data fit regression model: {R2_score}')\n",
    "print(f'The mean squared error is {RMSE_score}')\n",
    "print(f'The best params for the RandomForestRegressor: {gridsearch_forest.best_params_}')"
   ]
  },
  {
   "cell_type": "markdown",
   "id": "8412e046-9e46-44c1-aada-8c2f847afe47",
   "metadata": {},
   "source": [
    "We were able to remove the overfitting and we have almost a perfect data fit to the regression and a very interesting mean squared error."
   ]
  },
  {
   "cell_type": "markdown",
   "id": "d0f92432-8da0-4bbe-b02e-8999b668ab8f",
   "metadata": {},
   "source": [
    "#### DecisionTreeRegressor - Hyperparameter Tuning"
   ]
  },
  {
   "cell_type": "code",
   "execution_count": 204,
   "id": "e90724cd-9026-4cb4-9dd5-f0b112c8cb3d",
   "metadata": {},
   "outputs": [
    {
     "name": "stdout",
     "output_type": "stream",
     "text": [
      "The data fit regression model: 0.9999967009005003\n",
      "The mean squared error is 906.7187757057451\n",
      "The best params for the DecisionTreeRegressor: {'max_depth': 10, 'max_features': 'auto'}\n"
     ]
    }
   ],
   "source": [
    "from sklearn.model_selection import GridSearchCV\n",
    "\n",
    "param_grid = [{'max_depth': [5, 10, 15], 'max_features': ['auto', 'log2'], \n",
    "                }]\n",
    "\n",
    "decision_reg = DecisionTreeRegressor()\n",
    "\n",
    "decision_tree = GridSearchCV(decision_reg,param_grid, cv=10, return_train_score=True, n_jobs = -1)\n",
    "\n",
    "decision_tree.fit(X_train, y_train)\n",
    "\n",
    "Y_pred = decision_tree.predict(X_test)\n",
    "\n",
    "R2_score = decision_tree.score(X_train, y_train)\n",
    "\n",
    "RMSE_score = np.sqrt(mean_squared_error(y_test, Y_pred))\n",
    "\n",
    "print(f'The data fit regression model: {R2_score}')\n",
    "print(f'The mean squared error is {RMSE_score}')\n",
    "print(f'The best params for the DecisionTreeRegressor: {decision_tree.best_params_}')"
   ]
  },
  {
   "cell_type": "markdown",
   "id": "e4d35a07-ba6c-49a3-ad3a-f8cb2c995ab8",
   "metadata": {},
   "source": [
    "We were able to remove the overfitting, a perfect data fit to the regression and a the best mean squared error until now."
   ]
  },
  {
   "cell_type": "markdown",
   "id": "4c02bb33-aa14-4a2b-b788-821eb79045bf",
   "metadata": {
    "tags": []
   },
   "source": [
    "## DecisionTreeRegressor - Test Analysis"
   ]
  },
  {
   "cell_type": "code",
   "execution_count": 205,
   "id": "f305eaaa-3116-44d8-b678-54cea923ae19",
   "metadata": {},
   "outputs": [
    {
     "name": "stdout",
     "output_type": "stream",
     "text": [
      "The data fit regression model: 0.9953905255981944\n",
      "The mean squared error is 940.1210235959476\n",
      "The best params for the DecisionTreeRegressor: {'max_depth': 15, 'max_features': 'auto'}\n"
     ]
    }
   ],
   "source": [
    "from sklearn.model_selection import GridSearchCV\n",
    "\n",
    "param_grid = [{'max_depth': [5, 10, 15], 'max_features': ['auto', 'log2'], \n",
    "                }]\n",
    "\n",
    "decision_reg = DecisionTreeRegressor()\n",
    "\n",
    "decision_tree = GridSearchCV(decision_reg,param_grid, cv=10, return_train_score=True, n_jobs = -1)\n",
    "\n",
    "decision_tree.fit(X_train, y_train)\n",
    "\n",
    "Y_pred = decision_tree.predict(X_test)\n",
    "\n",
    "R2_score = decision_tree.score(X_test, y_test)\n",
    "\n",
    "RMSE_score = np.sqrt(mean_squared_error(y_test, Y_pred))\n",
    "\n",
    "print(f'The data fit regression model: {R2_score}')\n",
    "print(f'The mean squared error is {RMSE_score}')\n",
    "print(f'The best params for the DecisionTreeRegressor: {decision_tree.best_params_}')"
   ]
  },
  {
   "cell_type": "markdown",
   "id": "7e9a5c26-c6a1-438d-be47-826911ebc6cb",
   "metadata": {},
   "source": [
    "##### Decision Tree Feature Importance"
   ]
  },
  {
   "cell_type": "code",
   "execution_count": 207,
   "id": "8606af8c-82a5-4a64-835e-aaaefc13533b",
   "metadata": {},
   "outputs": [
    {
     "data": {
      "text/plain": [
       "[(0.7560025511155556, 'price_per_compartment'),\n",
       " (0.24328904649837857, 'Compartments'),\n",
       " (0.0003421772810371764, 'price_per_square_feet'),\n",
       " (0.00012147853409774524, 'Tenant Preferred'),\n",
       " (8.599881347406273e-05, 'Floor'),\n",
       " (4.3054451879555474e-05, 'City_Hyderabad'),\n",
       " (4.1177449758166896e-05, 'Area Type'),\n",
       " (3.3627154512783666e-05, 'City_Bangalore'),\n",
       " (3.314151139926004e-05, 'Furnishing Status'),\n",
       " (4.423063727779973e-06, 'City_Mumbai'),\n",
       " (1.614256269377938e-06, 'Point of Contact'),\n",
       " (1.0331240124020577e-06, 'City_Delhi'),\n",
       " (6.457521771744004e-07, 'City_Chennai'),\n",
       " (3.0993720372046956e-08, 'City_Kolkata')]"
      ]
     },
     "execution_count": 207,
     "metadata": {},
     "output_type": "execute_result"
    }
   ],
   "source": [
    "feature_importances = decision_tree.best_estimator_.feature_importances_\n",
    "sorted(zip(feature_importances, X.columns), reverse = True)"
   ]
  },
  {
   "cell_type": "markdown",
   "id": "4afd802f-752b-45a6-a894-39a8c7b10c0d",
   "metadata": {},
   "source": [
    "## Conclusion"
   ]
  },
  {
   "cell_type": "markdown",
   "id": "1b61fbea-1842-4583-b2c6-9cc33d9fcdc1",
   "metadata": {},
   "source": [
    "#### Best Model"
   ]
  },
  {
   "cell_type": "markdown",
   "id": "b9ec86b5-1f93-4c74-b92e-522b9d8ab06e",
   "metadata": {},
   "source": [
    "##### Decision Tree Regressor"
   ]
  },
  {
   "cell_type": "markdown",
   "id": "3cc855d2-25b5-4076-9e0b-502f384ebe54",
   "metadata": {},
   "source": [
    "#### Feature Importance"
   ]
  },
  {
   "cell_type": "markdown",
   "id": "05b94f89-cf92-41d2-854c-344a486fb10d",
   "metadata": {},
   "source": [
    "1 - Price Per Compartment\n",
    "2 - Number of Compartment"
   ]
  }
 ],
 "metadata": {
  "kernelspec": {
   "display_name": "Python 3 (ipykernel)",
   "language": "python",
   "name": "python3"
  },
  "language_info": {
   "codemirror_mode": {
    "name": "ipython",
    "version": 3
   },
   "file_extension": ".py",
   "mimetype": "text/x-python",
   "name": "python",
   "nbconvert_exporter": "python",
   "pygments_lexer": "ipython3",
   "version": "3.8.12"
  }
 },
 "nbformat": 4,
 "nbformat_minor": 5
}
